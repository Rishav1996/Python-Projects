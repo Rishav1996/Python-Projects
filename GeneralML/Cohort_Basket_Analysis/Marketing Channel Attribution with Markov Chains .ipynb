{
 "cells": [
  {
   "cell_type": "markdown",
   "metadata": {},
   "source": [
    "# Marketing Channel Attribution with Markov Chains "
   ]
  },
  {
   "cell_type": "markdown",
   "metadata": {},
   "source": [
    "#### Information about the Markov Chains and Attribution on [Here](https://medium.com/@mortenhegewald/marketing-channel-attribution-using-markov-chains-101-in-python-78fb181ebf1e)"
   ]
  },
  {
   "cell_type": "markdown",
   "metadata": {},
   "source": [
    "Markov chains, in the context of channel attribution, gives us a framework to statistically model user journeys and how each channel factors into the users traveling from one channel to another to eventually convert (or not). By using these transition probabilities, we can identify the statistical impact a single channel has on our total conversions."
   ]
  },
  {
   "cell_type": "markdown",
   "metadata": {},
   "source": [
    "The dataset for this notebook can be downloaded [here](https://www.dropbox.com/sh/m5d8u7inolw32xu/AADuHNcGToa7ajTcF_JjEkcca?dl=0)"
   ]
  },
  {
   "cell_type": "markdown",
   "metadata": {},
   "source": [
    "Refer to path \"GeneralML/data/attribution data.csv\""
   ]
  },
  {
   "cell_type": "markdown",
   "metadata": {},
   "source": [
    "Breif Explanation of dataset.\n",
    "\n",
    "For every unique customer and visit our data set this time around contains the following information in every row:\n",
    "\n",
    "- Cookie: Randomly generated customer id enabling us to tie subsequent visits back to the same customer\n",
    "- Timestamp: Date and time when the visit took place\n",
    "- Interaction: Categorical variable indicating the type of interaction that took place\n",
    "- Conversion: Boolean variable indicating whether a conversion took place\n",
    "- Conversion Value: Value of the potential conversion event\n",
    "- Channel: The marketing channel that brought the customer to our site"
   ]
  },
  {
   "cell_type": "markdown",
   "metadata": {},
   "source": [
    "The data set contains ~586,000 marketing touch-points for ~240,000 unique customers which resulted in ~18,000 thousand conversion events. In tabular format the data set will look like this:"
   ]
  },
  {
   "cell_type": "markdown",
   "metadata": {},
   "source": [
    "## 1.0 Import Libraries and Load Data"
   ]
  },
  {
   "cell_type": "code",
   "execution_count": 1,
   "metadata": {},
   "outputs": [],
   "source": [
    "import gc\n",
    "import os\n",
    "import time\n",
    "import numpy as np\n",
    "import pandas as pd\n",
    "import matplotlib.pyplot as plt\n",
    "import seaborn as sns\n",
    "import datetime as dt\n",
    "from collections import defaultdict"
   ]
  },
  {
   "cell_type": "code",
   "execution_count": 2,
   "metadata": {},
   "outputs": [],
   "source": [
    "df = pd.read_csv('./data/attribution.csv')\n",
    "\n",
    "df = df.sort_values(['cookie', 'time'],\n",
    "                    ascending=[False, True])\n",
    "\n",
    "# New column indicating the order of the touch-points for each user\n",
    "df['visit_order'] = df.groupby('cookie').cumcount() + 1"
   ]
  },
  {
   "cell_type": "code",
   "execution_count": 3,
   "metadata": {},
   "outputs": [
    {
     "data": {
      "text/html": [
       "<div>\n",
       "<style scoped>\n",
       "    .dataframe tbody tr th:only-of-type {\n",
       "        vertical-align: middle;\n",
       "    }\n",
       "\n",
       "    .dataframe tbody tr th {\n",
       "        vertical-align: top;\n",
       "    }\n",
       "\n",
       "    .dataframe thead th {\n",
       "        text-align: right;\n",
       "    }\n",
       "</style>\n",
       "<table border=\"1\" class=\"dataframe\">\n",
       "  <thead>\n",
       "    <tr style=\"text-align: right;\">\n",
       "      <th></th>\n",
       "      <th>cookie</th>\n",
       "      <th>time</th>\n",
       "      <th>interaction</th>\n",
       "      <th>conversion</th>\n",
       "      <th>conversion_value</th>\n",
       "      <th>channel</th>\n",
       "      <th>visit_order</th>\n",
       "    </tr>\n",
       "  </thead>\n",
       "  <tbody>\n",
       "    <tr>\n",
       "      <th>586736</th>\n",
       "      <td>ooooohAFofEnonEikhAi3fF9o</td>\n",
       "      <td>2018-07-14T17:17:12Z</td>\n",
       "      <td>impression</td>\n",
       "      <td>0</td>\n",
       "      <td>0.0</td>\n",
       "      <td>Paid Search</td>\n",
       "      <td>1</td>\n",
       "    </tr>\n",
       "    <tr>\n",
       "      <th>586734</th>\n",
       "      <td>ooooiBh70D3k3BfAhDFfii9h7</td>\n",
       "      <td>2018-07-03T12:57:25Z</td>\n",
       "      <td>impression</td>\n",
       "      <td>0</td>\n",
       "      <td>0.0</td>\n",
       "      <td>Paid Search</td>\n",
       "      <td>1</td>\n",
       "    </tr>\n",
       "    <tr>\n",
       "      <th>586735</th>\n",
       "      <td>ooooiBh70D3k3BfAhDFfii9h7</td>\n",
       "      <td>2018-07-19T08:17:59Z</td>\n",
       "      <td>impression</td>\n",
       "      <td>0</td>\n",
       "      <td>0.0</td>\n",
       "      <td>Online Video</td>\n",
       "      <td>2</td>\n",
       "    </tr>\n",
       "    <tr>\n",
       "      <th>586731</th>\n",
       "      <td>ooooEiB0CCoEf9fiiC90Dfhfk</td>\n",
       "      <td>2018-07-06T23:30:38Z</td>\n",
       "      <td>impression</td>\n",
       "      <td>0</td>\n",
       "      <td>0.0</td>\n",
       "      <td>Online Display</td>\n",
       "      <td>1</td>\n",
       "    </tr>\n",
       "    <tr>\n",
       "      <th>586732</th>\n",
       "      <td>ooooEiB0CCoEf9fiiC90Dfhfk</td>\n",
       "      <td>2018-07-12T23:50:45Z</td>\n",
       "      <td>impression</td>\n",
       "      <td>0</td>\n",
       "      <td>0.0</td>\n",
       "      <td>Online Display</td>\n",
       "      <td>2</td>\n",
       "    </tr>\n",
       "  </tbody>\n",
       "</table>\n",
       "</div>"
      ],
      "text/plain": [
       "                           cookie                  time interaction  \\\n",
       "586736  ooooohAFofEnonEikhAi3fF9o  2018-07-14T17:17:12Z  impression   \n",
       "586734  ooooiBh70D3k3BfAhDFfii9h7  2018-07-03T12:57:25Z  impression   \n",
       "586735  ooooiBh70D3k3BfAhDFfii9h7  2018-07-19T08:17:59Z  impression   \n",
       "586731  ooooEiB0CCoEf9fiiC90Dfhfk  2018-07-06T23:30:38Z  impression   \n",
       "586732  ooooEiB0CCoEf9fiiC90Dfhfk  2018-07-12T23:50:45Z  impression   \n",
       "\n",
       "        conversion  conversion_value         channel  visit_order  \n",
       "586736           0               0.0     Paid Search            1  \n",
       "586734           0               0.0     Paid Search            1  \n",
       "586735           0               0.0    Online Video            2  \n",
       "586731           0               0.0  Online Display            1  \n",
       "586732           0               0.0  Online Display            2  "
      ]
     },
     "execution_count": 3,
     "metadata": {},
     "output_type": "execute_result"
    }
   ],
   "source": [
    "df.head()"
   ]
  },
  {
   "cell_type": "markdown",
   "metadata": {},
   "source": [
    "#### Pivoting the data frame from long-form to wide-form, so we ultimately get a single row per user"
   ]
  },
  {
   "cell_type": "code",
   "execution_count": 167,
   "metadata": {},
   "outputs": [],
   "source": [
    "# grouping the chronological touch-points into a list\n",
    "df_paths = df.groupby('cookie')['channel'].aggregate(\n",
    "    lambda x: x.unique().tolist()).reset_index()\n",
    "    \n",
    "# merging the list of final conversion/non-conversion events onto that data    \n",
    "df_last_interaction = df.drop_duplicates('cookie', keep='last')[['cookie', 'conversion']]\n",
    "\n",
    "df_paths = pd.merge(df_paths, df_last_interaction, how='left', on='cookie')\n",
    "\n",
    "# adding a “Null” or “Conversion” event to the end of our user-journey lists\n",
    "df_paths['path'] = np.where(df_paths['conversion'] == 0,\n",
    "                            ['Start, '] + df_paths['channel'].apply(', '.join) + [', Null'],\n",
    "                            ['Start, '] + df_paths['channel'].apply(', '.join) + [', Conversion'])\n",
    "\n",
    "df_paths['path'] = df_paths['path'].str.split(', ')\n",
    "\n",
    "df_paths = df_paths[['cookie', 'path']]"
   ]
  },
  {
   "cell_type": "code",
   "execution_count": 168,
   "metadata": {},
   "outputs": [
    {
     "data": {
      "text/html": [
       "<div>\n",
       "<style scoped>\n",
       "    .dataframe tbody tr th:only-of-type {\n",
       "        vertical-align: middle;\n",
       "    }\n",
       "\n",
       "    .dataframe tbody tr th {\n",
       "        vertical-align: top;\n",
       "    }\n",
       "\n",
       "    .dataframe thead th {\n",
       "        text-align: right;\n",
       "    }\n",
       "</style>\n",
       "<table border=\"1\" class=\"dataframe\">\n",
       "  <thead>\n",
       "    <tr style=\"text-align: right;\">\n",
       "      <th></th>\n",
       "      <th>cookie</th>\n",
       "      <th>path</th>\n",
       "    </tr>\n",
       "  </thead>\n",
       "  <tbody>\n",
       "    <tr>\n",
       "      <th>0</th>\n",
       "      <td>00000FkCnDfDDf0iC97iC703B</td>\n",
       "      <td>[Start, Instagram, Online Display, Null]</td>\n",
       "    </tr>\n",
       "    <tr>\n",
       "      <th>1</th>\n",
       "      <td>0000nACkD9nFkBBDECD3ki00E</td>\n",
       "      <td>[Start, Paid Search, Null]</td>\n",
       "    </tr>\n",
       "    <tr>\n",
       "      <th>2</th>\n",
       "      <td>0003EfE37E93D0BC03iBhBBhF</td>\n",
       "      <td>[Start, Paid Search, Null]</td>\n",
       "    </tr>\n",
       "    <tr>\n",
       "      <th>3</th>\n",
       "      <td>00073CFE3FoFCn70fBhB3kfon</td>\n",
       "      <td>[Start, Instagram, Null]</td>\n",
       "    </tr>\n",
       "    <tr>\n",
       "      <th>4</th>\n",
       "      <td>00079hhBkDF3k3kDkiFi9EFAD</td>\n",
       "      <td>[Start, Paid Search, Null]</td>\n",
       "    </tr>\n",
       "  </tbody>\n",
       "</table>\n",
       "</div>"
      ],
      "text/plain": [
       "                      cookie                                      path\n",
       "0  00000FkCnDfDDf0iC97iC703B  [Start, Instagram, Online Display, Null]\n",
       "1  0000nACkD9nFkBBDECD3ki00E                [Start, Paid Search, Null]\n",
       "2  0003EfE37E93D0BC03iBhBBhF                [Start, Paid Search, Null]\n",
       "3  00073CFE3FoFCn70fBhB3kfon                  [Start, Instagram, Null]\n",
       "4  00079hhBkDF3k3kDkiFi9EFAD                [Start, Paid Search, Null]"
      ]
     },
     "execution_count": 168,
     "metadata": {},
     "output_type": "execute_result"
    }
   ],
   "source": [
    "df_paths.head()"
   ]
  },
  {
   "cell_type": "code",
   "execution_count": null,
   "metadata": {},
   "outputs": [],
   "source": []
  },
  {
   "cell_type": "markdown",
   "metadata": {},
   "source": [
    "## 2.0 Markov Chains"
   ]
  },
  {
   "cell_type": "markdown",
   "metadata": {},
   "source": [
    "We can now move onto the actual Markov Chain method.\n",
    "The algorithm for Markov Chains can be summarized in 2 steps:\n",
    "- Calculate transition probabilities between all states in our state-space\n",
    "- Calculate removal effects (for more info on removal effects, see part 1)\n",
    "\n",
    "#### We’ll start by defining a list of all user journeys, the number of total conversion and the base level conversion rate."
   ]
  },
  {
   "cell_type": "code",
   "execution_count": 169,
   "metadata": {},
   "outputs": [],
   "source": [
    "list_of_paths = df_paths['path']\n",
    "total_conversions = sum(path.count('Conversion') for path in df_paths['path'].tolist())\n",
    "base_conversion_rate = total_conversions / len(list_of_paths)"
   ]
  },
  {
   "cell_type": "code",
   "execution_count": 170,
   "metadata": {},
   "outputs": [
    {
     "data": {
      "text/plain": [
       "17639"
      ]
     },
     "execution_count": 170,
     "metadata": {},
     "output_type": "execute_result"
    }
   ],
   "source": [
    "total_conversions"
   ]
  },
  {
   "cell_type": "code",
   "execution_count": 171,
   "metadata": {},
   "outputs": [
    {
     "data": {
      "text/plain": [
       "0.07346277508454528"
      ]
     },
     "execution_count": 171,
     "metadata": {},
     "output_type": "execute_result"
    }
   ],
   "source": [
    "base_conversion_rate"
   ]
  },
  {
   "cell_type": "markdown",
   "metadata": {},
   "source": [
    "#### Next, we’ll define a function that identifies all potential state transitions and outputs a dictionary containing these. We’ll use this as an input when calculating transition probabilities:"
   ]
  },
  {
   "cell_type": "code",
   "execution_count": 172,
   "metadata": {},
   "outputs": [],
   "source": [
    "def transition_states(list_of_paths):\n",
    "    list_of_unique_channels = set(x for element in list_of_paths for x in element)\n",
    "    transition_states = {x + '>' + y: 0 for x in list_of_unique_channels for y in list_of_unique_channels}\n",
    "\n",
    "    for possible_state in list_of_unique_channels:\n",
    "        if possible_state not in ['Conversion', 'Null']:\n",
    "            for user_path in list_of_paths:\n",
    "                if possible_state in user_path:\n",
    "                    indices = [i for i, s in enumerate(user_path) if possible_state in s]\n",
    "                    for col in indices:\n",
    "                        transition_states[user_path[col] + '>' + user_path[col + 1]] += 1\n",
    "\n",
    "    return transition_states\n",
    "\n",
    "\n",
    "trans_states = transition_states(list_of_paths)"
   ]
  },
  {
   "cell_type": "markdown",
   "metadata": {},
   "source": [
    "#### And the function to calculate all transition probabilities can be defined as:"
   ]
  },
  {
   "cell_type": "code",
   "execution_count": 173,
   "metadata": {},
   "outputs": [],
   "source": [
    "def transition_prob(trans_dict):\n",
    "    list_of_unique_channels = set(x for element in list_of_paths for x in element)\n",
    "    trans_prob = defaultdict(dict)\n",
    "    for state in list_of_unique_channels:\n",
    "        if state not in ['Conversion', 'Null']:\n",
    "            counter = 0\n",
    "            index = [i for i, s in enumerate(trans_dict) if state + '>' in s]\n",
    "            for col in index:\n",
    "                if trans_dict[list(trans_dict)[col]] > 0:\n",
    "                    counter += trans_dict[list(trans_dict)[col]]\n",
    "            for col in index:\n",
    "                if trans_dict[list(trans_dict)[col]] > 0:\n",
    "                    state_prob = float((trans_dict[list(trans_dict)[col]])) / float(counter)\n",
    "                    trans_prob[list(trans_dict)[col]] = state_prob\n",
    "\n",
    "    return trans_prob\n",
    "\n",
    "\n",
    "trans_prob = transition_prob(trans_states)"
   ]
  },
  {
   "cell_type": "code",
   "execution_count": 174,
   "metadata": {},
   "outputs": [
    {
     "data": {
      "text/plain": [
       "defaultdict(dict,\n",
       "            {'Online Video>Conversion': 0.0781455983594551,\n",
       "             'Online Video>Null': 0.7637566525072018,\n",
       "             'Online Video>Instagram': 0.03190762169815927,\n",
       "             'Online Video>Paid Search': 0.04794687759386749,\n",
       "             'Online Video>Facebook': 0.059323275230701626,\n",
       "             'Online Video>Online Display': 0.018919974610614718,\n",
       "             'Start>Online Video': 0.14236093757808985,\n",
       "             'Start>Instagram': 0.11918803205224315,\n",
       "             'Start>Paid Search': 0.31739883718993117,\n",
       "             'Start>Facebook': 0.2784080497109634,\n",
       "             'Start>Online Display': 0.14264414346877238,\n",
       "             'Instagram>Conversion': 0.057979218048760765,\n",
       "             'Instagram>Online Video': 0.024117575708567502,\n",
       "             'Instagram>Null': 0.6297861157158452,\n",
       "             'Instagram>Paid Search': 0.04580924271216593,\n",
       "             'Instagram>Facebook': 0.2187765333764606,\n",
       "             'Instagram>Online Display': 0.023531314438199977,\n",
       "             'Paid Search>Conversion': 0.053309320126069336,\n",
       "             'Paid Search>Online Video': 0.029221071589374155,\n",
       "             'Paid Search>Null': 0.7707789284106259,\n",
       "             'Paid Search>Instagram': 0.03419630796938316,\n",
       "             'Paid Search>Facebook': 0.06444169293111211,\n",
       "             'Paid Search>Online Display': 0.04805267897343539,\n",
       "             'Facebook>Conversion': 0.053219858156028366,\n",
       "             'Facebook>Online Video': 0.025577304964539006,\n",
       "             'Facebook>Null': 0.6731234042553191,\n",
       "             'Facebook>Instagram': 0.1730723404255319,\n",
       "             'Facebook>Paid Search': 0.05065531914893617,\n",
       "             'Facebook>Online Display': 0.02435177304964539,\n",
       "             'Online Display>Conversion': 0.05032391324758239,\n",
       "             'Online Display>Online Video': 0.017298845178856444,\n",
       "             'Online Display>Null': 0.7566425687728852,\n",
       "             'Online Display>Instagram': 0.02936344005257722,\n",
       "             'Online Display>Paid Search': 0.09238569148436766,\n",
       "             'Online Display>Facebook': 0.053985541263731104})"
      ]
     },
     "execution_count": 174,
     "metadata": {},
     "output_type": "execute_result"
    }
   ],
   "source": [
    "trans_prob"
   ]
  },
  {
   "cell_type": "markdown",
   "metadata": {},
   "source": [
    "#### Now, \"trans_prob\" is a dictionary containing all transitions and their respective transition probabilities given our historical data."
   ]
  },
  {
   "cell_type": "markdown",
   "metadata": {},
   "source": [
    "#### The final step is then to identify removal effects for each of our marketing channels. To do this we’ll make use of linear algebra and matrix manipulations, therefore let’s turn our above transition probabilities dictionary into a data frame (matrix):"
   ]
  },
  {
   "cell_type": "code",
   "execution_count": 175,
   "metadata": {},
   "outputs": [],
   "source": [
    "def transition_matrix(list_of_paths, transition_probabilities):\n",
    "    trans_matrix = pd.DataFrame()\n",
    "    list_of_unique_channels = set(x for element in list_of_paths for x in element)\n",
    "\n",
    "    for channel in list_of_unique_channels:\n",
    "        trans_matrix[channel] = 0.00\n",
    "        trans_matrix.loc[channel] = 0.00\n",
    "        trans_matrix.loc[channel][channel] = 1.0 if channel in ['Conversion', 'Null'] else 0.0\n",
    "\n",
    "    for key, value in transition_probabilities.items():\n",
    "        origin, destination = key.split('>')\n",
    "        trans_matrix.at[origin, destination] = value\n",
    "\n",
    "    return trans_matrix\n",
    "\n",
    "\n",
    "trans_matrix = transition_matrix(list_of_paths, trans_prob)"
   ]
  },
  {
   "cell_type": "code",
   "execution_count": 176,
   "metadata": {},
   "outputs": [
    {
     "data": {
      "text/html": [
       "<div>\n",
       "<style scoped>\n",
       "    .dataframe tbody tr th:only-of-type {\n",
       "        vertical-align: middle;\n",
       "    }\n",
       "\n",
       "    .dataframe tbody tr th {\n",
       "        vertical-align: top;\n",
       "    }\n",
       "\n",
       "    .dataframe thead th {\n",
       "        text-align: right;\n",
       "    }\n",
       "</style>\n",
       "<table border=\"1\" class=\"dataframe\">\n",
       "  <thead>\n",
       "    <tr style=\"text-align: right;\">\n",
       "      <th></th>\n",
       "      <th>Conversion</th>\n",
       "      <th>Online Video</th>\n",
       "      <th>Null</th>\n",
       "      <th>Start</th>\n",
       "      <th>Instagram</th>\n",
       "      <th>Paid Search</th>\n",
       "      <th>Facebook</th>\n",
       "      <th>Online Display</th>\n",
       "    </tr>\n",
       "  </thead>\n",
       "  <tbody>\n",
       "    <tr>\n",
       "      <th>Conversion</th>\n",
       "      <td>1.000000</td>\n",
       "      <td>0.000000</td>\n",
       "      <td>0.000000</td>\n",
       "      <td>0.0</td>\n",
       "      <td>0.000000</td>\n",
       "      <td>0.000000</td>\n",
       "      <td>0.000000</td>\n",
       "      <td>0.000000</td>\n",
       "    </tr>\n",
       "    <tr>\n",
       "      <th>Online Video</th>\n",
       "      <td>0.078146</td>\n",
       "      <td>0.000000</td>\n",
       "      <td>0.763757</td>\n",
       "      <td>0.0</td>\n",
       "      <td>0.031908</td>\n",
       "      <td>0.047947</td>\n",
       "      <td>0.059323</td>\n",
       "      <td>0.018920</td>\n",
       "    </tr>\n",
       "    <tr>\n",
       "      <th>Null</th>\n",
       "      <td>0.000000</td>\n",
       "      <td>0.000000</td>\n",
       "      <td>1.000000</td>\n",
       "      <td>0.0</td>\n",
       "      <td>0.000000</td>\n",
       "      <td>0.000000</td>\n",
       "      <td>0.000000</td>\n",
       "      <td>0.000000</td>\n",
       "    </tr>\n",
       "    <tr>\n",
       "      <th>Start</th>\n",
       "      <td>0.000000</td>\n",
       "      <td>0.142361</td>\n",
       "      <td>0.000000</td>\n",
       "      <td>0.0</td>\n",
       "      <td>0.119188</td>\n",
       "      <td>0.317399</td>\n",
       "      <td>0.278408</td>\n",
       "      <td>0.142644</td>\n",
       "    </tr>\n",
       "    <tr>\n",
       "      <th>Instagram</th>\n",
       "      <td>0.057979</td>\n",
       "      <td>0.024118</td>\n",
       "      <td>0.629786</td>\n",
       "      <td>0.0</td>\n",
       "      <td>0.000000</td>\n",
       "      <td>0.045809</td>\n",
       "      <td>0.218777</td>\n",
       "      <td>0.023531</td>\n",
       "    </tr>\n",
       "    <tr>\n",
       "      <th>Paid Search</th>\n",
       "      <td>0.053309</td>\n",
       "      <td>0.029221</td>\n",
       "      <td>0.770779</td>\n",
       "      <td>0.0</td>\n",
       "      <td>0.034196</td>\n",
       "      <td>0.000000</td>\n",
       "      <td>0.064442</td>\n",
       "      <td>0.048053</td>\n",
       "    </tr>\n",
       "    <tr>\n",
       "      <th>Facebook</th>\n",
       "      <td>0.053220</td>\n",
       "      <td>0.025577</td>\n",
       "      <td>0.673123</td>\n",
       "      <td>0.0</td>\n",
       "      <td>0.173072</td>\n",
       "      <td>0.050655</td>\n",
       "      <td>0.000000</td>\n",
       "      <td>0.024352</td>\n",
       "    </tr>\n",
       "    <tr>\n",
       "      <th>Online Display</th>\n",
       "      <td>0.050324</td>\n",
       "      <td>0.017299</td>\n",
       "      <td>0.756643</td>\n",
       "      <td>0.0</td>\n",
       "      <td>0.029363</td>\n",
       "      <td>0.092386</td>\n",
       "      <td>0.053986</td>\n",
       "      <td>0.000000</td>\n",
       "    </tr>\n",
       "  </tbody>\n",
       "</table>\n",
       "</div>"
      ],
      "text/plain": [
       "                Conversion  Online Video      Null  Start  Instagram  \\\n",
       "Conversion        1.000000      0.000000  0.000000    0.0   0.000000   \n",
       "Online Video      0.078146      0.000000  0.763757    0.0   0.031908   \n",
       "Null              0.000000      0.000000  1.000000    0.0   0.000000   \n",
       "Start             0.000000      0.142361  0.000000    0.0   0.119188   \n",
       "Instagram         0.057979      0.024118  0.629786    0.0   0.000000   \n",
       "Paid Search       0.053309      0.029221  0.770779    0.0   0.034196   \n",
       "Facebook          0.053220      0.025577  0.673123    0.0   0.173072   \n",
       "Online Display    0.050324      0.017299  0.756643    0.0   0.029363   \n",
       "\n",
       "                Paid Search  Facebook  Online Display  \n",
       "Conversion         0.000000  0.000000        0.000000  \n",
       "Online Video       0.047947  0.059323        0.018920  \n",
       "Null               0.000000  0.000000        0.000000  \n",
       "Start              0.317399  0.278408        0.142644  \n",
       "Instagram          0.045809  0.218777        0.023531  \n",
       "Paid Search        0.000000  0.064442        0.048053  \n",
       "Facebook           0.050655  0.000000        0.024352  \n",
       "Online Display     0.092386  0.053986        0.000000  "
      ]
     },
     "execution_count": 176,
     "metadata": {},
     "output_type": "execute_result"
    }
   ],
   "source": [
    "trans_matrix"
   ]
  },
  {
   "cell_type": "code",
   "execution_count": 182,
   "metadata": {},
   "outputs": [
    {
     "data": {
      "image/png": "[encoded data removed]",
      "text/plain": [
       "<Figure size 792x648 with 2 Axes>"
      ]
     },
     "metadata": {
      "needs_background": "light"
     },
     "output_type": "display_data"
    }
   ],
   "source": [
    "fig, ax = plt.subplots(figsize=(11, 9))\n",
    "# plot heatmap\n",
    "sns.heatmap(trans_matrix, cmap=\"Blues\",annot=True, linewidths=.5)\n",
    "plt.show()"
   ]
  },
  {
   "cell_type": "markdown",
   "metadata": {},
   "source": [
    "## 3.0 Interpretation "
   ]
  },
  {
   "cell_type": "markdown",
   "metadata": {},
   "source": [
    "#### The transition matrix we just produced actually holds a great deal of valuable information on its own. An immediate derivative of it would be to generate a directional graph or transition heat map to visualize the typical user journeys."
   ]
  },
  {
   "cell_type": "markdown",
   "metadata": {},
   "source": [
    "#### We gain critical information around how our marketing channels are interacting with each other. Given today’s typical multi-touch conversion journeys this information can prove to be extremely valuable and allows us to optimize our multi-channel customer journeys for conversion"
   ]
  },
  {
   "cell_type": "markdown",
   "metadata": {},
   "source": [
    "### We can now iteratively go through each of our channels and assess the impact it would have on overall conversion if we were to remove a channel from our state-space. We’ll do this and add the resulting removal effects to an output dictionary:"
   ]
  },
  {
   "cell_type": "code",
   "execution_count": 183,
   "metadata": {},
   "outputs": [],
   "source": [
    "def removal_effects(df, conversion_rate):\n",
    "    removal_effects_dict = {}\n",
    "    channels = [channel for channel in df.columns if channel not in ['Start',\n",
    "                                                                     'Null',\n",
    "                                                                     'Conversion']]\n",
    "    for channel in channels:\n",
    "        removal_df = df.drop(channel, axis=1).drop(channel, axis=0)\n",
    "        for column in removal_df.columns:\n",
    "            row_sum = np.sum(list(removal_df.loc[column]))\n",
    "            null_pct = float(1) - row_sum\n",
    "            if null_pct != 0:\n",
    "                removal_df.loc[column]['Null'] = null_pct\n",
    "            removal_df.loc['Null']['Null'] = 1.0\n",
    "\n",
    "        removal_to_conv = removal_df[\n",
    "            ['Null', 'Conversion']].drop(['Null', 'Conversion'], axis=0)\n",
    "        removal_to_non_conv = removal_df.drop(\n",
    "            ['Null', 'Conversion'], axis=1).drop(['Null', 'Conversion'], axis=0)\n",
    "\n",
    "        removal_inv_diff = np.linalg.inv(\n",
    "            np.identity(\n",
    "                len(removal_to_non_conv.columns)) - np.asarray(removal_to_non_conv))\n",
    "        removal_dot_prod = np.dot(removal_inv_diff, np.asarray(removal_to_conv))\n",
    "        removal_cvr = pd.DataFrame(removal_dot_prod,\n",
    "                                   index=removal_to_conv.index)[[1]].loc['Start'].values[0]\n",
    "        removal_effect = 1 - removal_cvr / conversion_rate\n",
    "        removal_effects_dict[channel] = removal_effect\n",
    "\n",
    "    return removal_effects_dict\n",
    "\n",
    "\n",
    "removal_effects_dict = removal_effects(trans_matrix, base_conversion_rate)"
   ]
  },
  {
   "cell_type": "markdown",
   "metadata": {},
   "source": [
    "#### Then, let's calculate the Markov Chain attributions for each of our marketing channels:"
   ]
  },
  {
   "cell_type": "code",
   "execution_count": 184,
   "metadata": {},
   "outputs": [],
   "source": [
    "def markov_chain_allocations(removal_effects, total_conversions):\n",
    "    re_sum = np.sum(list(removal_effects.values()))\n",
    "\n",
    "    return {k: (v / re_sum) * total_conversions for k, v in removal_effects.items()}\n",
    "\n",
    "\n",
    "attributions = markov_chain_allocations(removal_effects_dict, total_conversions)"
   ]
  },
  {
   "cell_type": "code",
   "execution_count": 185,
   "metadata": {},
   "outputs": [
    {
     "data": {
      "text/plain": [
       "{'Online Video': 2886.4480895461475,\n",
       " 'Instagram': 3031.521548555893,\n",
       " 'Paid Search': 4618.891257291356,\n",
       " 'Facebook': 4948.892177847523,\n",
       " 'Online Display': 2153.2469267590823}"
      ]
     },
     "execution_count": 185,
     "metadata": {},
     "output_type": "execute_result"
    }
   ],
   "source": [
    "attributions"
   ]
  },
  {
   "cell_type": "code",
   "execution_count": 187,
   "metadata": {},
   "outputs": [
    {
     "data": {
      "image/png": "[encoded data removed]",
      "text/plain": [
       "<Figure size 432x288 with 1 Axes>"
      ]
     },
     "metadata": {
      "needs_background": "light"
     },
     "output_type": "display_data"
    }
   ],
   "source": [
    "plt.bar(*zip(*attributions.items()))\n",
    "plt.show()"
   ]
  },
  {
   "cell_type": "markdown",
   "metadata": {},
   "source": [
    "### To get a better feel for the output of our labor, let’s visualize the final attributed conversion values for each channel."
   ]
  },
  {
   "cell_type": "markdown",
   "metadata": {},
   "source": [
    "### It’s important to keep in mind that while the data set in this example holds a sizeable volume of data it only includes 5 marketing channels. \n",
    "\n",
    "### In a real-world scenario we’d likely be working with several times that number of channels (significantly more if we applying a more granular model such as a campaign specific attribution model), consequently increasing the complexity of the typical user journey and the need for an attribution model that favours this level of complexity.\n",
    "\n",
    "### Assigning accurate credit to marketing channels can be a complex but rewarding task. Using the Markov Chain approach outlined in this article will allow your attributions to more accurately reflect how your users are interacting with your marketing."
   ]
  },
  {
   "cell_type": "code",
   "execution_count": null,
   "metadata": {},
   "outputs": [],
   "source": []
  },
  {
   "cell_type": "markdown",
   "metadata": {},
   "source": [
    "Reference:\n",
    "https://towardsdatascience.com/marketing-channel-attribution-with-markov-chains-in-python-part-2-the-complete-walkthrough-733c65b23323"
   ]
  }
 ],
 "metadata": {
  "kernelspec": {
   "display_name": "Python 3",
   "language": "python",
   "name": "python3"
  },
  "language_info": {
   "codemirror_mode": {
    "name": "ipython",
    "version": 3
   },
   "file_extension": ".py",
   "mimetype": "text/x-python",
   "name": "python",
   "nbconvert_exporter": "python",
   "pygments_lexer": "ipython3",
   "version": "3.8.5"
  }
 },
 "nbformat": 4,
 "nbformat_minor": 4
}
